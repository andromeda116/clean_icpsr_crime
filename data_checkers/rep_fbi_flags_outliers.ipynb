{
 "cells": [
  {
   "cell_type": "code",
   "execution_count": null,
   "metadata": {},
   "outputs": [],
   "source": [
    "import pandas as pd"
   ]
  },
  {
   "cell_type": "code",
   "execution_count": 15,
   "metadata": {},
   "outputs": [],
   "source": [
    "def get_outliers(df, st_dev, cols, op_path):\n",
    "    df_z = df[cols].groupby('ORI').transform(lambda group: (group - group.mean()).div(group.std()))\n",
    "\n",
    "    for col in list(df_z):\n",
    "        outliers = df_z[f'{col}'].abs() > st_dev\n",
    "        outliers_df = df[outliers]\n",
    "        outliers_df.to_csv(f'/{op_path}/{col}_within_ori_3z_ol.csv', index=False)"
   ]
  },
  {
   "cell_type": "code",
   "execution_count": 16,
   "metadata": {},
   "outputs": [],
   "source": [
    "monthly_df = pd.read_csv('/Users/salma/Research/clean_icpsr_crime/data/cleaned_check/crime_icpsr_90_15.csv')\n",
    "get_outliers(df=monthly_df, st_dev=3, cols=['ORI', 'rep_month_flag_total_true', 'fbi_month_total_true'], op_path='/Users/salma/Research/clean_icpsr_crime/data/cleaned_check')"
   ]
  },
  {
   "cell_type": "code",
   "execution_count": 17,
   "metadata": {},
   "outputs": [],
   "source": [
    "##### Keep only main identifiers from rep and fbi flags outliers files\n",
    "rep_ol_df = pd.read_csv('/Users/salma/Research/clean_icpsr_crime/data/cleaned_check/rep_month_flag_total_true_within_ori_3z_ol.csv')\n",
    "rep_ol_df_req = rep_ol_df.loc[:,['ORI', 'YEAR', 'AGENCY', 'fbi_month_total_true', 'rep_month_flag_total_true', 'total_main_crime']]\n",
    "\n",
    "rep_ol_df_req.to_csv('/Users/salma/Research/clean_icpsr_crime/data/cleaned_check/rep_month_flag_total_true_within_ori_3z_ol_req.csv', index=False)"
   ]
  },
  {
   "cell_type": "code",
   "execution_count": 18,
   "metadata": {},
   "outputs": [],
   "source": [
    "##### Keep only main identifiers from rep and fbi flags outliers files\n",
    "fbi_ol_df = pd.read_csv('/Users/salma/Research/clean_icpsr_crime/data/cleaned_check/fbi_month_total_true_within_ori_3z_ol.csv')\n",
    "fbi_ol_df_req = fbi_ol_df.loc[:,['ORI', 'YEAR', 'AGENCY', 'fbi_month_total_true', 'rep_month_flag_total_true', 'total_main_crime']]\n",
    "\n",
    "fbi_ol_df_req.to_csv('/Users/salma/Research/clean_icpsr_crime/data/cleaned_check/fbi_month_total_true_within_ori_3z_ol_req.csv', index=False)"
   ]
  },
  {
   "cell_type": "code",
   "execution_count": 19,
   "metadata": {},
   "outputs": [],
   "source": [
    "#### get the required final yearly crime vars file\n",
    "crime_df = pd.read_csv('/Users/salma/Research/clean_icpsr_crime/data/cleaned_check/crime_icpsr_90_15.csv')\n",
    "crime_df_req = crime_df.loc[:, ['ORI', 'YEAR', 'population_icpsr', 'murder', 'rape', 'robbery', 'agg_assault',\n",
    "                                'simple_assault', 'burglary', 'larceny', 'motor_vehicle_theft', \n",
    "                                'rep_month_flag_total_true', 'fbi_month_total_true']]\n",
    "crime_df_req.to_csv('/Users/salma/Research/clean_icpsr_crime/data/cleaned_check/crime_icpsr_90_15_req.csv', index=False)"
   ]
  },
  {
   "cell_type": "code",
   "execution_count": null,
   "metadata": {},
   "outputs": [],
   "source": []
  }
 ],
 "metadata": {
  "kernelspec": {
   "display_name": "us_crime_analytics",
   "language": "python",
   "name": "us_crime_analytics"
  },
  "language_info": {
   "codemirror_mode": {
    "name": "ipython",
    "version": 3
   },
   "file_extension": ".py",
   "mimetype": "text/x-python",
   "name": "python",
   "nbconvert_exporter": "python",
   "pygments_lexer": "ipython3",
   "version": "3.7.5"
  }
 },
 "nbformat": 4,
 "nbformat_minor": 4
}
